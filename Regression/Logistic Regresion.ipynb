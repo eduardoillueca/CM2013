{
 "cells": [
  {
   "cell_type": "markdown",
   "id": "28f1f2f4",
   "metadata": {},
   "source": [
    "# Install and Load Packages"
   ]
  },
  {
   "cell_type": "code",
   "execution_count": null,
   "id": "6f1b062f",
   "metadata": {},
   "outputs": [],
   "source": [
    "pip install statsmodels"
   ]
  },
  {
   "cell_type": "code",
   "execution_count": null,
   "id": "2be1a6da",
   "metadata": {},
   "outputs": [],
   "source": [
    "pip install numpy"
   ]
  },
  {
   "cell_type": "code",
   "execution_count": null,
   "id": "5bb3ebbd",
   "metadata": {},
   "outputs": [],
   "source": [
    "pip install pandas"
   ]
  },
  {
   "cell_type": "code",
   "execution_count": null,
   "id": "d33f3192",
   "metadata": {},
   "outputs": [],
   "source": [
    "pip install sklearn"
   ]
  },
  {
   "cell_type": "code",
   "execution_count": null,
   "id": "9e7f0dee",
   "metadata": {},
   "outputs": [],
   "source": [
    "pip install matplotlib"
   ]
  },
  {
   "cell_type": "code",
   "execution_count": null,
   "id": "ccc9ca23",
   "metadata": {},
   "outputs": [],
   "source": [
    "import statsmodels.api as sm\n",
    "import numpy as np\n",
    "import pandas as pd\n",
    "from sklearn import datasets \n",
    "import matplotlib.pyplot as plt\n",
    "from sklearn.metrics import accuracy_score\n",
    "from sklearn.metrics import confusion_matrix\n",
    "from sklearn.metrics import roc_curve"
   ]
  },
  {
   "cell_type": "markdown",
   "id": "53d9ca35",
   "metadata": {},
   "source": [
    "# Load Data"
   ]
  },
  {
   "cell_type": "code",
   "execution_count": null,
   "id": "ea1c28a5",
   "metadata": {},
   "outputs": [],
   "source": [
    "diabetes = pd.read_csv('diabetes_log.csv')\n",
    "display(diabetes)"
   ]
  },
  {
   "cell_type": "code",
   "execution_count": null,
   "id": "bf8b0a3e",
   "metadata": {},
   "outputs": [],
   "source": [
    "X = diabetes.iloc[0:700,0:8]\n",
    "y = diabetes.iloc[0:700,8]"
   ]
  },
  {
   "cell_type": "code",
   "execution_count": null,
   "id": "42be9468",
   "metadata": {},
   "outputs": [],
   "source": [
    "X = sm.add_constant(X, prepend=False)\n",
    "display(X)"
   ]
  },
  {
   "cell_type": "markdown",
   "id": "c41aa42f",
   "metadata": {},
   "source": [
    "# Fit the Model"
   ]
  },
  {
   "cell_type": "code",
   "execution_count": null,
   "id": "fbe0128c",
   "metadata": {},
   "outputs": [],
   "source": [
    "res = sm.Logit(y, X).fit()\n",
    "print(res.summary())"
   ]
  },
  {
   "cell_type": "markdown",
   "id": "d7437903",
   "metadata": {},
   "source": [
    "# Prediction"
   ]
  },
  {
   "cell_type": "code",
   "execution_count": null,
   "id": "767dbd52",
   "metadata": {},
   "outputs": [],
   "source": [
    "X_pred = diabetes.iloc[700:,0:8]\n",
    "X_pred = sm.add_constant(X_pred, prepend=False)\n",
    "\n",
    "prediction = res.predict(X_pred)\n",
    "prediction = list(map(round, prediction))\n",
    "\n",
    "display(prediction)"
   ]
  },
  {
   "cell_type": "markdown",
   "id": "0f58ef24",
   "metadata": {},
   "source": [
    "# Validation"
   ]
  },
  {
   "cell_type": "code",
   "execution_count": null,
   "id": "aabbbfed",
   "metadata": {},
   "outputs": [],
   "source": [
    "print(accuracy_score(diabetes.iloc[700:,8],prediction))\n",
    "display(pd.DataFrame(confusion_matrix(diabetes.iloc[700:,8],prediction)))"
   ]
  },
  {
   "cell_type": "code",
   "execution_count": null,
   "id": "1adada18",
   "metadata": {},
   "outputs": [],
   "source": [
    "fpr, tpr, _ = roc_curve(diabetes.iloc[700:,8],prediction)\n",
    "print(fpr,tpr)\n",
    "#create ROC curve\n",
    "plt.plot(fpr,tpr)\n",
    "plt.ylabel('True Positive Rate')\n",
    "plt.xlabel('False Positive Rate')\n",
    "plt.show()"
   ]
  },
  {
   "cell_type": "code",
   "execution_count": null,
   "id": "59cb8c09",
   "metadata": {},
   "outputs": [],
   "source": []
  }
 ],
 "metadata": {
  "kernelspec": {
   "display_name": "Python 3",
   "language": "python",
   "name": "python3"
  },
  "language_info": {
   "codemirror_mode": {
    "name": "ipython",
    "version": 3
   },
   "file_extension": ".py",
   "mimetype": "text/x-python",
   "name": "python",
   "nbconvert_exporter": "python",
   "pygments_lexer": "ipython3",
   "version": "3.9.2"
  }
 },
 "nbformat": 4,
 "nbformat_minor": 5
}
