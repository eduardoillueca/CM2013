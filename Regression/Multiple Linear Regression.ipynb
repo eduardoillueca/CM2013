{
 "cells": [
  {
   "cell_type": "markdown",
   "id": "2ba0d669",
   "metadata": {},
   "source": [
    "# Install and Load Packages"
   ]
  },
  {
   "cell_type": "code",
   "execution_count": null,
   "id": "6036ccf0",
   "metadata": {},
   "outputs": [],
   "source": [
    "pip install statsmodels"
   ]
  },
  {
   "cell_type": "code",
   "execution_count": null,
   "id": "1f74c416",
   "metadata": {},
   "outputs": [],
   "source": [
    "pip install numpy"
   ]
  },
  {
   "cell_type": "code",
   "execution_count": null,
   "id": "707a2ca6",
   "metadata": {},
   "outputs": [],
   "source": [
    "pip install pandas"
   ]
  },
  {
   "cell_type": "code",
   "execution_count": null,
   "id": "c5427a9a",
   "metadata": {},
   "outputs": [],
   "source": [
    "pip install sklearn"
   ]
  },
  {
   "cell_type": "code",
   "execution_count": null,
   "id": "6df98fdf",
   "metadata": {},
   "outputs": [],
   "source": [
    "pip install matplotlib"
   ]
  },
  {
   "cell_type": "code",
   "execution_count": null,
   "id": "ccc9ca23",
   "metadata": {},
   "outputs": [],
   "source": [
    "import statsmodels.api as sm\n",
    "import numpy as np\n",
    "import pandas as pd\n",
    "from sklearn import datasets \n",
    "import matplotlib.pyplot as plt\n",
    "from sklearn.metrics import mean_absolute_error"
   ]
  },
  {
   "cell_type": "markdown",
   "id": "7cd7f7ef",
   "metadata": {},
   "source": [
    "# Load Data"
   ]
  },
  {
   "cell_type": "code",
   "execution_count": null,
   "id": "b1be3cb3",
   "metadata": {},
   "outputs": [],
   "source": [
    "diabetes = pd.read_csv('diabetes_MLR.csv')\n",
    "display(diabetes.iloc[:,10])"
   ]
  },
  {
   "cell_type": "code",
   "execution_count": null,
   "id": "db7832fc",
   "metadata": {},
   "outputs": [],
   "source": [
    "X = diabetes.iloc[0:400,0:10]\n",
    "y = diabetes.iloc[0:400,10]"
   ]
  },
  {
   "cell_type": "code",
   "execution_count": null,
   "id": "a565e031",
   "metadata": {},
   "outputs": [],
   "source": [
    "X = sm.add_constant(X, prepend=False)\n",
    "display(X)"
   ]
  },
  {
   "cell_type": "markdown",
   "id": "0948c8a2",
   "metadata": {},
   "source": [
    "# Fit the Model"
   ]
  },
  {
   "cell_type": "code",
   "execution_count": null,
   "id": "c058b1a9",
   "metadata": {},
   "outputs": [],
   "source": [
    "res = sm.OLS(y, X).fit()\n",
    "print(res.summary())"
   ]
  },
  {
   "cell_type": "markdown",
   "id": "6083f7d0",
   "metadata": {},
   "source": [
    "# Predictions"
   ]
  },
  {
   "cell_type": "code",
   "execution_count": null,
   "id": "00531d2e",
   "metadata": {},
   "outputs": [],
   "source": [
    "X_pred = diabetes.iloc[400:,0:10]\n",
    "X_pred = sm.add_constant(X_pred, prepend=False)\n",
    "\n",
    "prediction = res.predict(X_pred)\n",
    "display(prediction)"
   ]
  },
  {
   "cell_type": "markdown",
   "id": "9e6fb781",
   "metadata": {},
   "source": [
    "# Validation"
   ]
  },
  {
   "cell_type": "code",
   "execution_count": null,
   "id": "6fe77d65",
   "metadata": {},
   "outputs": [],
   "source": [
    "print(len(prediction))\n",
    "print(mean_absolute_error(diabetes.iloc[400:,10],prediction))\n",
    "\n",
    "plt.plot(range(len(prediction)),prediction)\n",
    "plt.plot(range(len(prediction)),diabetes.iloc[400:,10])"
   ]
  },
  {
   "cell_type": "markdown",
   "id": "c848bf90",
   "metadata": {},
   "source": [
    "# Multicolinearity"
   ]
  },
  {
   "cell_type": "code",
   "execution_count": null,
   "id": "a064281d",
   "metadata": {},
   "outputs": [],
   "source": [
    "diabetes.corr()"
   ]
  },
  {
   "cell_type": "code",
   "execution_count": null,
   "id": "9574b4e8",
   "metadata": {},
   "outputs": [],
   "source": [
    "vif = pd.DataFrame()\n",
    "vif[\"VIF Factor\"] = [variance_inflation_factor(X.values, i) for i in range(X.values.shape[1])]\n",
    "vif[\"features\"] = X.columns\n",
    "print(vif.round(1))"
   ]
  },
  {
   "cell_type": "markdown",
   "id": "fa7617a8",
   "metadata": {},
   "source": [
    "**Excercise 2**: provides data on the influence of insulin on opossum liver. In the experimental setup the 20 animals (common gray Australian opossums – Trichosurus) fasted for 24 or 36 hours. Ten animals, four from the 24-hour fasting group and six from the 36-hour fasting group, were injected with insulin, while the remaining ten animals served as controls, that is, they received no insulin. After 3 to 4 hours liver glycogen and blood sugar were measured. The weights of the animals were recorded as well. \n",
    "\n",
    "a) Find a linear equation that model the liver glycogen based on weight, level of blood sugar,\n",
    "insulin indicator, and fasting regime. Interpret the model.\n",
    "\n",
    "b) Is the insulin indicator (0 no, 1 yes) an important covariate in the model?\n",
    "\n",
    "c) Can we afirm that the weight coefficient is different to zero?\n",
    "\n",
    "d) Is it possible to propose a more simple model?\n"
   ]
  },
  {
   "cell_type": "code",
   "execution_count": 1,
   "id": "4fe5e5f4",
   "metadata": {},
   "outputs": [
    {
     "ename": "NameError",
     "evalue": "name 'pd' is not defined",
     "output_type": "error",
     "traceback": [
      "\u001b[0;31m---------------------------------------------------------------------------\u001b[0m",
      "\u001b[0;31mNameError\u001b[0m                                 Traceback (most recent call last)",
      "\u001b[0;32m<ipython-input-1-e6d80ece1ab3>\u001b[0m in \u001b[0;36m<module>\u001b[0;34m\u001b[0m\n\u001b[0;32m----> 1\u001b[0;31m \u001b[0mdata\u001b[0m \u001b[0;34m=\u001b[0m \u001b[0mpd\u001b[0m\u001b[0;34m.\u001b[0m\u001b[0mread_csv\u001b[0m\u001b[0;34m(\u001b[0m\u001b[0;34m'glycogen.csv'\u001b[0m\u001b[0;34m,\u001b[0m \u001b[0msep\u001b[0m \u001b[0;34m=\u001b[0m \u001b[0;34m';'\u001b[0m\u001b[0;34m)\u001b[0m\u001b[0;34m\u001b[0m\u001b[0;34m\u001b[0m\u001b[0m\n\u001b[0m\u001b[1;32m      2\u001b[0m \u001b[0mX\u001b[0m \u001b[0;34m=\u001b[0m \u001b[0mdata\u001b[0m\u001b[0;34m.\u001b[0m\u001b[0mloc\u001b[0m\u001b[0;34m[\u001b[0m\u001b[0;34m:\u001b[0m\u001b[0;34m,\u001b[0m\u001b[0;34m[\u001b[0m\u001b[0;34m'Weight'\u001b[0m\u001b[0;34m,\u001b[0m\u001b[0;34m'Blood Sugar'\u001b[0m\u001b[0;34m,\u001b[0m \u001b[0;34m'Fasting Period'\u001b[0m\u001b[0;34m,\u001b[0m \u001b[0;34m'Insulin'\u001b[0m\u001b[0;34m]\u001b[0m\u001b[0;34m]\u001b[0m\u001b[0;34m\u001b[0m\u001b[0;34m\u001b[0m\u001b[0m\n\u001b[1;32m      3\u001b[0m \u001b[0mX\u001b[0m \u001b[0;34m=\u001b[0m \u001b[0msm\u001b[0m\u001b[0;34m.\u001b[0m\u001b[0madd_constant\u001b[0m\u001b[0;34m(\u001b[0m\u001b[0mX\u001b[0m\u001b[0;34m,\u001b[0m \u001b[0mprepend\u001b[0m\u001b[0;34m=\u001b[0m\u001b[0;32mFalse\u001b[0m\u001b[0;34m)\u001b[0m\u001b[0;34m\u001b[0m\u001b[0;34m\u001b[0m\u001b[0m\n\u001b[1;32m      4\u001b[0m \u001b[0my\u001b[0m \u001b[0;34m=\u001b[0m \u001b[0mdata\u001b[0m\u001b[0;34m.\u001b[0m\u001b[0mloc\u001b[0m\u001b[0;34m[\u001b[0m\u001b[0;34m:\u001b[0m\u001b[0;34m,\u001b[0m\u001b[0;34m[\u001b[0m\u001b[0;34m'Liver Glycogen'\u001b[0m\u001b[0;34m]\u001b[0m\u001b[0;34m]\u001b[0m\u001b[0;34m\u001b[0m\u001b[0;34m\u001b[0m\u001b[0m\n\u001b[1;32m      5\u001b[0m \u001b[0mres\u001b[0m \u001b[0;34m=\u001b[0m \u001b[0msm\u001b[0m\u001b[0;34m.\u001b[0m\u001b[0mOLS\u001b[0m\u001b[0;34m(\u001b[0m\u001b[0my\u001b[0m\u001b[0;34m,\u001b[0m \u001b[0mX\u001b[0m\u001b[0;34m)\u001b[0m\u001b[0;34m.\u001b[0m\u001b[0mfit\u001b[0m\u001b[0;34m(\u001b[0m\u001b[0;34m)\u001b[0m\u001b[0;34m\u001b[0m\u001b[0;34m\u001b[0m\u001b[0m\n",
      "\u001b[0;31mNameError\u001b[0m: name 'pd' is not defined"
     ]
    }
   ],
   "source": []
  },
  {
   "cell_type": "code",
   "execution_count": null,
   "id": "78787de1",
   "metadata": {},
   "outputs": [],
   "source": []
  }
 ],
 "metadata": {
  "kernelspec": {
   "display_name": "Python 3",
   "language": "python",
   "name": "python3"
  },
  "language_info": {
   "codemirror_mode": {
    "name": "ipython",
    "version": 3
   },
   "file_extension": ".py",
   "mimetype": "text/x-python",
   "name": "python",
   "nbconvert_exporter": "python",
   "pygments_lexer": "ipython3",
   "version": "3.9.2"
  }
 },
 "nbformat": 4,
 "nbformat_minor": 5
}
