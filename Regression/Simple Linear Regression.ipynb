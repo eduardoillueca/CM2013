{
 "cells": [
  {
   "cell_type": "markdown",
   "id": "e0500633",
   "metadata": {},
   "source": [
    "# Install and Load Packages"
   ]
  },
  {
   "cell_type": "code",
   "execution_count": null,
   "id": "d08f1de5",
   "metadata": {},
   "outputs": [],
   "source": [
    "pip install statsmodels"
   ]
  },
  {
   "cell_type": "code",
   "execution_count": null,
   "id": "0a87c477",
   "metadata": {},
   "outputs": [],
   "source": [
    "pip install numpy"
   ]
  },
  {
   "cell_type": "code",
   "execution_count": null,
   "id": "08a25fe4",
   "metadata": {},
   "outputs": [],
   "source": [
    "pip install pandas"
   ]
  },
  {
   "cell_type": "code",
   "execution_count": null,
   "id": "41576160",
   "metadata": {},
   "outputs": [],
   "source": [
    "pip install sklearn"
   ]
  },
  {
   "cell_type": "code",
   "execution_count": null,
   "id": "9734cd68",
   "metadata": {},
   "outputs": [],
   "source": [
    "pip install matplotlib"
   ]
  },
  {
   "cell_type": "code",
   "execution_count": null,
   "id": "6394d035",
   "metadata": {},
   "outputs": [],
   "source": [
    "import statsmodels.api as sm\n",
    "import numpy as np\n",
    "import pandas as pd\n",
    "from sklearn import datasets \n",
    "import matplotlib.pyplot as plt\n",
    "from sklearn.metrics import mean_absolute_error"
   ]
  },
  {
   "cell_type": "markdown",
   "id": "9ccd4bc1",
   "metadata": {},
   "source": [
    "# Load Data"
   ]
  },
  {
   "cell_type": "code",
   "execution_count": null,
   "id": "d78d7a9f",
   "metadata": {},
   "outputs": [],
   "source": [
    "diabetes = pd.read_csv('diabetes_SLR.csv')\n",
    "display(diabetes)"
   ]
  },
  {
   "cell_type": "code",
   "execution_count": null,
   "id": "329a7768",
   "metadata": {},
   "outputs": [],
   "source": [
    "diabetes = sm.add_constant(diabetes, prepend=False)\n",
    "display(diabetes)"
   ]
  },
  {
   "cell_type": "code",
   "execution_count": null,
   "id": "efb4ccb1",
   "metadata": {},
   "outputs": [],
   "source": [
    "X = diabetes.loc[:,['Alcaline Deficency','const']][0:30]\n",
    "y = diabetes.loc[:,['C Peptide']][0:30]"
   ]
  },
  {
   "cell_type": "markdown",
   "id": "927cef3b",
   "metadata": {},
   "source": [
    "# Fit the Model"
   ]
  },
  {
   "cell_type": "code",
   "execution_count": null,
   "id": "245ae861",
   "metadata": {},
   "outputs": [],
   "source": [
    "res = sm.OLS(y, X).fit()\n",
    "print(res.summary())"
   ]
  },
  {
   "cell_type": "code",
   "execution_count": null,
   "id": "a290b7fd",
   "metadata": {},
   "outputs": [],
   "source": [
    "print(\"Parameters: \", res.params)\n",
    "print(\"R2: \", res.rsquared)"
   ]
  },
  {
   "cell_type": "code",
   "execution_count": null,
   "id": "b352fef3",
   "metadata": {},
   "outputs": [],
   "source": [
    "display(res.fittedvalues)"
   ]
  },
  {
   "cell_type": "code",
   "execution_count": null,
   "id": "3f198138",
   "metadata": {},
   "outputs": [],
   "source": [
    "pred_ols = res.get_prediction()\n",
    "iv_l = pred_ols.summary_frame()[\"obs_ci_lower\"]\n",
    "iv_u = pred_ols.summary_frame()[\"obs_ci_upper\"]"
   ]
  },
  {
   "cell_type": "code",
   "execution_count": null,
   "id": "bfb86422",
   "metadata": {},
   "outputs": [],
   "source": [
    "fig, ax = plt.subplots(figsize=(8, 6))\n",
    "\n",
    "ax.plot(X.loc[:,['Alcaline Deficency']], y.loc[:,['C Peptide']], \"o\", label=\"data\")\n",
    "ax.plot(X.loc[:,['Alcaline Deficency']], res.fittedvalues, \"r--.\", label=\"OLS\")\n",
    "ax.plot(X.loc[:,['Alcaline Deficency']], iv_u, \"r--\")\n",
    "ax.plot(X.loc[:,['Alcaline Deficency']], iv_l, \"r--\")\n",
    "ax.legend(loc=\"best\")"
   ]
  },
  {
   "cell_type": "markdown",
   "id": "71df1783",
   "metadata": {},
   "source": [
    "# Prediction"
   ]
  },
  {
   "cell_type": "code",
   "execution_count": null,
   "id": "3a368493",
   "metadata": {},
   "outputs": [],
   "source": [
    "prediction = res.predict(diabetes.loc[:,['Alcaline Deficency','const']][30:])\n",
    "display(prediction)"
   ]
  },
  {
   "cell_type": "markdown",
   "id": "e01ba3e1",
   "metadata": {},
   "source": [
    "# Validation"
   ]
  },
  {
   "cell_type": "code",
   "execution_count": null,
   "id": "82100031",
   "metadata": {},
   "outputs": [],
   "source": [
    "print(mean_absolute_error(diabetes.loc[:,['C Peptide']][30:],prediction))\n",
    "\n",
    "plt.plot(range(len(prediction)),prediction)\n",
    "plt.plot(range(len(prediction)),diabetes.loc[:,['C Peptide']][30:])"
   ]
  },
  {
   "cell_type": "markdown",
   "id": "be24f115",
   "metadata": {},
   "source": [
    "**Excercise 1**: Implement a function that use the mathematical formulations in slides to calculate the coefficients and the results of the linear regression. Compare your results with the results obtained with Statsmodels. Are these results the same?"
   ]
  },
  {
   "cell_type": "code",
   "execution_count": null,
   "id": "2ca97f74",
   "metadata": {},
   "outputs": [],
   "source": []
  },
  {
   "cell_type": "code",
   "execution_count": null,
   "id": "86995a93",
   "metadata": {},
   "outputs": [],
   "source": []
  },
  {
   "cell_type": "code",
   "execution_count": null,
   "id": "c5b4468d",
   "metadata": {},
   "outputs": [],
   "source": []
  }
 ],
 "metadata": {
  "kernelspec": {
   "display_name": "Python 3",
   "language": "python",
   "name": "python3"
  },
  "language_info": {
   "codemirror_mode": {
    "name": "ipython",
    "version": 3
   },
   "file_extension": ".py",
   "mimetype": "text/x-python",
   "name": "python",
   "nbconvert_exporter": "python",
   "pygments_lexer": "ipython3",
   "version": "3.9.2"
  }
 },
 "nbformat": 4,
 "nbformat_minor": 5
}
