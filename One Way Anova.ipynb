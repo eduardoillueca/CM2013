{
 "cells": [
  {
   "cell_type": "markdown",
   "id": "bf3b6d86",
   "metadata": {},
   "source": [
    "# Load necessary packages"
   ]
  },
  {
   "cell_type": "code",
   "execution_count": null,
   "id": "e0ee7e51",
   "metadata": {},
   "outputs": [],
   "source": [
    "import pandas as pd\n",
    "import scipy.stats as stats\n",
    "import statsmodels.api as sm\n",
    "from statsmodels.formula.api import ols\n",
    "# easily detect the differences between different treatments\n",
    "import matplotlib.pyplot as plt\n",
    "import seaborn as sns\n",
    "import statsmodels.stats.multicomp as mc"
   ]
  },
  {
   "cell_type": "markdown",
   "id": "477c0444",
   "metadata": {},
   "source": [
    "# Read Data "
   ]
  },
  {
   "cell_type": "code",
   "execution_count": null,
   "id": "ad132742",
   "metadata": {},
   "outputs": [],
   "source": [
    "df = pd.read_csv(\"esoph.csv\")\n",
    "display(df)"
   ]
  },
  {
   "cell_type": "markdown",
   "id": "06078cc9",
   "metadata": {},
   "source": [
    "# Visualice Data"
   ]
  },
  {
   "cell_type": "code",
   "execution_count": null,
   "id": "04e41f2d",
   "metadata": {},
   "outputs": [],
   "source": [
    "ax = sns.boxplot(x='alcgp', y='cases_per_population', data=df, color='#99c2a2')\n",
    "ax = sns.swarmplot(x=\"alcgp\", y=\"cases_per_population\", data=df, color='#7d0013')\n",
    "plt.show()"
   ]
  },
  {
   "cell_type": "markdown",
   "id": "8cbd4078",
   "metadata": {},
   "source": [
    "# Fit the Model"
   ]
  },
  {
   "cell_type": "code",
   "execution_count": null,
   "id": "53ff0b9b",
   "metadata": {},
   "outputs": [],
   "source": [
    "model = ols('cases_per_population ~ alcgp', data=df).fit()\n",
    "anova_table = sm.stats.anova_lm(model, typ=2)\n",
    "anova_table"
   ]
  },
  {
   "cell_type": "markdown",
   "id": "0975f138",
   "metadata": {},
   "source": [
    "**Interpration**: As we obtain **P-value < 0.05** we can conclude that it existis significative difference among groups. Note that the **F-value** is inverse proportional to the **P-value**\n",
    "\n",
    "**Warning**: We can only conclude that at least **only one group** is significative difference from the rest, but wa cannot afirm that exists significative difference between the groups"
   ]
  },
  {
   "cell_type": "markdown",
   "id": "cc418595",
   "metadata": {},
   "source": [
    "# Check ANOVA assumptions"
   ]
  },
  {
   "cell_type": "markdown",
   "id": "42e1e136",
   "metadata": {},
   "source": [
    "## Normality of the Residues"
   ]
  },
  {
   "cell_type": "code",
   "execution_count": null,
   "id": "59633e1f",
   "metadata": {},
   "outputs": [],
   "source": [
    "res = model.resid"
   ]
  },
  {
   "cell_type": "code",
   "execution_count": null,
   "id": "022749cc",
   "metadata": {},
   "outputs": [],
   "source": [
    "sm.qqplot(res, line='45')\n",
    "plt.xlabel(\"Theoretical Quantiles\")\n",
    "plt.ylabel(\"Standardized Residuals\")\n",
    "plt.show()"
   ]
  },
  {
   "cell_type": "code",
   "execution_count": null,
   "id": "a5b7e472",
   "metadata": {},
   "outputs": [],
   "source": [
    "plt.hist(res, bins='auto', histtype='bar', ec='k') \n",
    "plt.xlabel(\"Residuals\")\n",
    "plt.ylabel('Frequency')\n",
    "plt.show()"
   ]
  },
  {
   "cell_type": "code",
   "execution_count": null,
   "id": "c9b0a241",
   "metadata": {},
   "outputs": [],
   "source": [
    "stats.shapiro(model.resid)"
   ]
  },
  {
   "cell_type": "markdown",
   "id": "dc683d3e",
   "metadata": {},
   "source": [
    "## Homoscedasticity between Groups"
   ]
  },
  {
   "cell_type": "code",
   "execution_count": null,
   "id": "73ff21a0",
   "metadata": {},
   "outputs": [],
   "source": [
    "stats.levene(df['cases_per_population'][df['alcgp'] == '0-39g/day'],\n",
    "             df['cases_per_population'][df['alcgp'] == '40-79'],\n",
    "             df['cases_per_population'][df['alcgp'] == '80-119'],\n",
    "             df['cases_per_population'][df['alcgp'] == '120+'])"
   ]
  },
  {
   "cell_type": "markdown",
   "id": "83ba7c74",
   "metadata": {},
   "source": [
    "# Post Hoc Analysis"
   ]
  },
  {
   "cell_type": "code",
   "execution_count": null,
   "id": "82efb04f",
   "metadata": {},
   "outputs": [],
   "source": [
    "comp = mc.MultiComparison(df['cases_per_population'],df['alcgp'])\n",
    "post_hoc_res = comp.tukeyhsd()\n",
    "print(post_hoc_res.summary())"
   ]
  },
  {
   "cell_type": "code",
   "execution_count": null,
   "id": "7fadaafc",
   "metadata": {},
   "outputs": [],
   "source": [
    "post_hoc_res.plot_simultaneous(ylabel= \"Alcohol Comsuption\", xlabel= \"Difference\")"
   ]
  },
  {
   "cell_type": "code",
   "execution_count": null,
   "id": "b21e987d",
   "metadata": {},
   "outputs": [],
   "source": [
    "tbl, a1, a2 = comp.allpairtest(stats.ttest_ind, method= \"bonf\")\n",
    "print(tbl)"
   ]
  },
  {
   "cell_type": "markdown",
   "id": "ed900795",
   "metadata": {},
   "source": [
    "# Exercise 1: Repeat the Two Way ANOVA test for the effect of alcohol consum, age population and its interaction"
   ]
  },
  {
   "cell_type": "code",
   "execution_count": null,
   "id": "b20f4068",
   "metadata": {},
   "outputs": [],
   "source": [
    "#ax = sns.boxplot()\n",
    "#ax = sns.swarmplot()\n",
    "#plt.show()"
   ]
  },
  {
   "cell_type": "code",
   "execution_count": null,
   "id": "4e554dd2",
   "metadata": {},
   "outputs": [],
   "source": [
    "#model = ols().fit()\n",
    "#anova_table = sm.stats.anova_lm()\n",
    "#anova_table"
   ]
  },
  {
   "cell_type": "code",
   "execution_count": null,
   "id": "e38bfee5",
   "metadata": {},
   "outputs": [],
   "source": [
    "#res = Acces to the residuals"
   ]
  },
  {
   "cell_type": "code",
   "execution_count": null,
   "id": "e6b9ec52",
   "metadata": {},
   "outputs": [],
   "source": [
    "#### Plot the Q-Q Plot"
   ]
  },
  {
   "cell_type": "code",
   "execution_count": null,
   "id": "c7f6178e",
   "metadata": {},
   "outputs": [],
   "source": [
    "#### Plot the Histogram"
   ]
  },
  {
   "cell_type": "code",
   "execution_count": null,
   "id": "5fd756a9",
   "metadata": {},
   "outputs": [],
   "source": [
    "#stats.shapiro()"
   ]
  },
  {
   "cell_type": "code",
   "execution_count": null,
   "id": "ae29c801",
   "metadata": {},
   "outputs": [],
   "source": [
    "#stats.levene()"
   ]
  },
  {
   "cell_type": "markdown",
   "id": "5cd1821a",
   "metadata": {},
   "source": [
    "# Exercise 2"
   ]
  }
 ],
 "metadata": {
  "kernelspec": {
   "display_name": "Python 3",
   "language": "python",
   "name": "python3"
  },
  "language_info": {
   "codemirror_mode": {
    "name": "ipython",
    "version": 3
   },
   "file_extension": ".py",
   "mimetype": "text/x-python",
   "name": "python",
   "nbconvert_exporter": "python",
   "pygments_lexer": "ipython3",
   "version": "3.9.2"
  }
 },
 "nbformat": 4,
 "nbformat_minor": 5
}
