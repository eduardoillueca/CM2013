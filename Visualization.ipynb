{
 "cells": [
  {
   "cell_type": "markdown",
   "id": "828ae8d1",
   "metadata": {},
   "source": [
    "# Load necessary packages"
   ]
  },
  {
   "cell_type": "code",
   "execution_count": null,
   "id": "9ace4268",
   "metadata": {},
   "outputs": [],
   "source": [
    "pip install pandas"
   ]
  },
  {
   "cell_type": "code",
   "execution_count": null,
   "id": "add1bb5b",
   "metadata": {},
   "outputs": [],
   "source": [
    "pip install numpy"
   ]
  },
  {
   "cell_type": "code",
   "execution_count": null,
   "id": "27a769b0",
   "metadata": {},
   "outputs": [],
   "source": [
    "pip install matplotlib"
   ]
  },
  {
   "cell_type": "code",
   "execution_count": null,
   "id": "b92bc9ac",
   "metadata": {},
   "outputs": [],
   "source": [
    "pip install seaborn"
   ]
  },
  {
   "cell_type": "code",
   "execution_count": null,
   "id": "e0ee7e51",
   "metadata": {},
   "outputs": [],
   "source": [
    "import pandas as pd\n",
    "import numpy as np\n",
    "import matplotlib.pyplot as plt\n",
    "import seaborn as sns"
   ]
  },
  {
   "cell_type": "markdown",
   "id": "c8477f7b",
   "metadata": {},
   "source": [
    "# Read Data "
   ]
  },
  {
   "cell_type": "code",
   "execution_count": null,
   "id": "ad132742",
   "metadata": {},
   "outputs": [],
   "source": [
    "df = pd.read_csv('blood_pressure.csv')\n",
    "display(df)"
   ]
  },
  {
   "cell_type": "code",
   "execution_count": null,
   "id": "e5c24bcd",
   "metadata": {},
   "outputs": [],
   "source": [
    "df = df.loc[:,['Sex',\n",
    "               'Mean systolic blood pressure (mmHg)', \n",
    "               'Mean diastolic blood pressure (mmHg)',\n",
    "               'Prevalence of raised blood pressure']]\n",
    "\n",
    "display(df)"
   ]
  },
  {
   "cell_type": "markdown",
   "id": "54779d76",
   "metadata": {},
   "source": [
    "# Scatter Plot"
   ]
  },
  {
   "cell_type": "code",
   "execution_count": null,
   "id": "28ea253a",
   "metadata": {},
   "outputs": [],
   "source": [
    "sns.pairplot(x_vars=['Prevalence of raised blood pressure'], y_vars=['Mean systolic blood pressure (mmHg)'], data=df, hue=\"Sex\", height=10)"
   ]
  },
  {
   "cell_type": "markdown",
   "id": "bf2be2bf",
   "metadata": {},
   "source": [
    "# Histogram"
   ]
  },
  {
   "cell_type": "code",
   "execution_count": null,
   "id": "dc9b5ed5",
   "metadata": {},
   "outputs": [],
   "source": []
  },
  {
   "cell_type": "markdown",
   "id": "5a80a609",
   "metadata": {},
   "source": [
    "# Linear Plot"
   ]
  },
  {
   "cell_type": "code",
   "execution_count": null,
   "id": "7ec21812",
   "metadata": {},
   "outputs": [],
   "source": [
    "sns.lmplot(x = 'Prevalence of raised blood pressure', y = 'Mean systolic blood pressure (mmHg)', data = df, hue = 'Sex', col = 'Sex')"
   ]
  },
  {
   "cell_type": "markdown",
   "id": "4f21c85a",
   "metadata": {},
   "source": [
    "# Density Plots"
   ]
  },
  {
   "cell_type": "code",
   "execution_count": null,
   "id": "005e00c1",
   "metadata": {},
   "outputs": [],
   "source": [
    "for group in df['Sex'].unique():\n",
    "    \n",
    "    subset = df[df['Sex'] == group]\n",
    "    \n",
    "    sns.distplot(subset['Prevalence of raised blood pressure'], hist = False, kde = True,\n",
    "                     kde_kws = {'shade': True, 'linewidth': 3}, \n",
    "                      label = group)\n",
    "plt.legend(df['Sex'].unique())\n",
    "plt.show()"
   ]
  },
  {
   "cell_type": "code",
   "execution_count": null,
   "id": "2fca77b2",
   "metadata": {},
   "outputs": [],
   "source": [
    "sns.set_style(\"whitegrid\");\n",
    "sns.pairplot(df, hue=\"Sex\", size=3);\n",
    "plt.show()"
   ]
  },
  {
   "cell_type": "code",
   "execution_count": null,
   "id": "281f8147",
   "metadata": {},
   "outputs": [],
   "source": [
    "sns.jointplot(x = 'Prevalence of raised blood pressure', y = 'Mean systolic blood pressure (mmHg)', data = df,  hue=\"Sex\")"
   ]
  },
  {
   "cell_type": "code",
   "execution_count": null,
   "id": "79a9f0a2",
   "metadata": {},
   "outputs": [],
   "source": []
  },
  {
   "cell_type": "markdown",
   "id": "f559ab6c",
   "metadata": {},
   "source": [
    "## Boxplot and Violin Plot"
   ]
  },
  {
   "cell_type": "code",
   "execution_count": null,
   "id": "338fa544",
   "metadata": {},
   "outputs": [],
   "source": [
    "plt.figure(figsize = [15, 10])\n",
    "plt.style.use('ggplot')\n",
    "plt.subplot(1,3,1)\n",
    "sns.boxplot(x = 'Sex', y = 'Mean systolic blood pressure (mmHg)', data = df)\n",
    "plt.subplot(1,3,2)\n",
    "sns.boxplot(x = 'Sex', y = 'Mean diastolic blood pressure (mmHg)', data = df)\n",
    "plt.subplot(1,3,3)\n",
    "sns.boxplot(x = 'Sex', y = 'Prevalence of raised blood pressure', data = df)\n"
   ]
  },
  {
   "cell_type": "code",
   "execution_count": null,
   "id": "dbe77e93",
   "metadata": {},
   "outputs": [],
   "source": [
    "plt.figure(figsize = [15, 10])\n",
    "plt.style.use('ggplot')\n",
    "plt.subplot(1,3,1)\n",
    "sns.violinplot(x = 'Sex', y = 'Mean systolic blood pressure (mmHg)', data = df)\n",
    "plt.subplot(1,3,2)\n",
    "sns.violinplot(x = 'Sex', y = 'Mean diastolic blood pressure (mmHg)', data = df)\n",
    "plt.subplot(1,3,3)\n",
    "sns.violinplot(x = 'Sex', y = 'Prevalence of raised blood pressure', data = df)\n"
   ]
  },
  {
   "cell_type": "markdown",
   "id": "eca2a3fe",
   "metadata": {},
   "source": [
    "# Exercise 1"
   ]
  },
  {
   "cell_type": "markdown",
   "id": "f6ba7ca2",
   "metadata": {},
   "source": [
    "# Exercise 2"
   ]
  }
 ],
 "metadata": {
  "kernelspec": {
   "display_name": "Python 3",
   "language": "python",
   "name": "python3"
  },
  "language_info": {
   "codemirror_mode": {
    "name": "ipython",
    "version": 3
   },
   "file_extension": ".py",
   "mimetype": "text/x-python",
   "name": "python",
   "nbconvert_exporter": "python",
   "pygments_lexer": "ipython3",
   "version": "3.9.2"
  }
 },
 "nbformat": 4,
 "nbformat_minor": 5
}
