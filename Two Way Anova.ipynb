{
 "cells": [
  {
   "cell_type": "markdown",
   "id": "ba113086",
   "metadata": {},
   "source": [
    "# Load necessary packages"
   ]
  },
  {
   "cell_type": "code",
   "execution_count": null,
   "id": "401f54be",
   "metadata": {},
   "outputs": [],
   "source": [
    "pip install numpy"
   ]
  },
  {
   "cell_type": "code",
   "execution_count": null,
   "id": "a457afc0",
   "metadata": {},
   "outputs": [],
   "source": [
    "pip install pandas"
   ]
  },
  {
   "cell_type": "code",
   "execution_count": null,
   "id": "aa200d45",
   "metadata": {},
   "outputs": [],
   "source": [
    "pip install scipy"
   ]
  },
  {
   "cell_type": "code",
   "execution_count": null,
   "id": "541c090f",
   "metadata": {},
   "outputs": [],
   "source": [
    "pip install statsmodels"
   ]
  },
  {
   "cell_type": "code",
   "execution_count": null,
   "id": "753d96f3",
   "metadata": {},
   "outputs": [],
   "source": [
    "pip install matplotlib"
   ]
  },
  {
   "cell_type": "code",
   "execution_count": null,
   "id": "2f1b0b34",
   "metadata": {},
   "outputs": [],
   "source": [
    "pip install seaborn"
   ]
  },
  {
   "cell_type": "code",
   "execution_count": null,
   "id": "e0ee7e51",
   "metadata": {},
   "outputs": [],
   "source": [
    "import pandas as pd\n",
    "import scipy.stats as stats\n",
    "import statsmodels.api as sm\n",
    "from statsmodels.formula.api import ols\n",
    "# easily detect the differences between different treatments\n",
    "import matplotlib.pyplot as plt\n",
    "import seaborn as sns\n",
    "import statsmodels.stats.multicomp as mc"
   ]
  },
  {
   "cell_type": "markdown",
   "id": "a127d1c3",
   "metadata": {},
   "source": [
    "# Read Data "
   ]
  },
  {
   "cell_type": "code",
   "execution_count": null,
   "id": "ad132742",
   "metadata": {},
   "outputs": [],
   "source": [
    "df = pd.read_csv(\"esoph.csv\")\n",
    "display(df)"
   ]
  },
  {
   "cell_type": "code",
   "execution_count": null,
   "id": "4d44ae2b",
   "metadata": {},
   "outputs": [],
   "source": []
  },
  {
   "cell_type": "markdown",
   "id": "a2fa8162",
   "metadata": {},
   "source": [
    "# Visualice Data"
   ]
  },
  {
   "cell_type": "code",
   "execution_count": null,
   "id": "3cea7473",
   "metadata": {},
   "outputs": [],
   "source": [
    "ax = sns.boxplot(x='alcgp', y='cases_per_population', data=df, color='#99c2a2')\n",
    "ax = sns.swarmplot(x=\"alcgp\", y=\"cases_per_population\", data=df, color='#7d0013')\n",
    "plt.show()"
   ]
  },
  {
   "cell_type": "code",
   "execution_count": null,
   "id": "f6834b4c",
   "metadata": {},
   "outputs": [],
   "source": [
    "ax = sns.boxplot(x='tobgp', y='cases_per_population', data=df, color='#99c2a2')\n",
    "ax = sns.swarmplot(x=\"tobgp\", y=\"cases_per_population\", data=df, color='#7d0013')\n",
    "plt.show()"
   ]
  },
  {
   "cell_type": "markdown",
   "id": "f2c3d500",
   "metadata": {},
   "source": [
    "# Fit the Model"
   ]
  },
  {
   "cell_type": "code",
   "execution_count": null,
   "id": "fb48747a",
   "metadata": {},
   "outputs": [],
   "source": [
    "model = ols('cases_per_population ~ tobgp + alcgp + tobgp:alcgp', data=df).fit()\n",
    "anova_table = sm.stats.anova_lm(model, typ=2)\n",
    "anova_table"
   ]
  },
  {
   "cell_type": "markdown",
   "id": "2f41247b",
   "metadata": {},
   "source": [
    "**Interpration**: As we obtain **P-value < 0.05** we can conclude that it existis significative difference among groups. Note that the **F-value** is inverse proportional to the **P-value**\n",
    "\n",
    "**Warning**: We can only conclude that at least **only one group** is significative difference from the rest, but wa cannot afirm that exists significative difference between the groups"
   ]
  },
  {
   "cell_type": "markdown",
   "id": "0464eec2",
   "metadata": {},
   "source": [
    "# Check ANOVA assumptions"
   ]
  },
  {
   "cell_type": "markdown",
   "id": "740d2187",
   "metadata": {},
   "source": [
    "## Normality of the Residues"
   ]
  },
  {
   "cell_type": "code",
   "execution_count": null,
   "id": "c0684d70",
   "metadata": {},
   "outputs": [],
   "source": [
    "res = model.resid"
   ]
  },
  {
   "cell_type": "code",
   "execution_count": null,
   "id": "90247b30",
   "metadata": {},
   "outputs": [],
   "source": [
    "sm.qqplot(res, line='45')\n",
    "plt.xlabel(\"Theoretical Quantiles\")\n",
    "plt.ylabel(\"Standardized Residuals\")\n",
    "plt.show()"
   ]
  },
  {
   "cell_type": "code",
   "execution_count": null,
   "id": "a8a3ed40",
   "metadata": {},
   "outputs": [],
   "source": [
    "plt.hist(res, bins='auto', histtype='bar', ec='k') \n",
    "plt.xlabel(\"Residuals\")\n",
    "plt.ylabel('Frequency')\n",
    "plt.show()"
   ]
  },
  {
   "cell_type": "code",
   "execution_count": null,
   "id": "36698b7b",
   "metadata": {},
   "outputs": [],
   "source": [
    "stats.shapiro(model.resid)"
   ]
  },
  {
   "cell_type": "markdown",
   "id": "acbc4c7f",
   "metadata": {},
   "source": [
    "## Homoscedasticity between Groups"
   ]
  },
  {
   "cell_type": "code",
   "execution_count": null,
   "id": "acd7e9ce",
   "metadata": {},
   "outputs": [],
   "source": [
    "stats.levene(df['cases_per_population'][df['alcgp'] == '0-39g/day'],\n",
    "             df['cases_per_population'][df['alcgp'] == '40-79'],\n",
    "             df['cases_per_population'][df['alcgp'] == '80-119'],\n",
    "             df['cases_per_population'][df['alcgp'] == '120+'])"
   ]
  },
  {
   "cell_type": "code",
   "execution_count": null,
   "id": "d2880029",
   "metadata": {},
   "outputs": [],
   "source": [
    "stats.levene(df['cases_per_population'][df['tobgp'] == '0-9g/day'],\n",
    "             df['cases_per_population'][df['tobgp'] == '10-19'],\n",
    "             df['cases_per_population'][df['tobgp'] == '20-29'],\n",
    "             df['cases_per_population'][df['tobgp'] == '30+'])"
   ]
  },
  {
   "cell_type": "markdown",
   "id": "da9ad333",
   "metadata": {},
   "source": [
    "# Post Hoc Analysis"
   ]
  },
  {
   "cell_type": "code",
   "execution_count": null,
   "id": "eaa05705",
   "metadata": {},
   "outputs": [],
   "source": [
    "comp = mc.MultiComparison(df['cases_per_population'],df['alcgp'])\n",
    "post_hoc_res = comp.tukeyhsd()\n",
    "print(post_hoc_res.summary())"
   ]
  },
  {
   "cell_type": "code",
   "execution_count": null,
   "id": "45792107",
   "metadata": {},
   "outputs": [],
   "source": [
    "comp = mc.MultiComparison(df['cases_per_population'],df['tobgp'])\n",
    "post_hoc_res = comp.tukeyhsd()\n",
    "print(post_hoc_res.summary())"
   ]
  },
  {
   "cell_type": "code",
   "execution_count": null,
   "id": "ff3e224f",
   "metadata": {},
   "outputs": [],
   "source": []
  },
  {
   "cell_type": "code",
   "execution_count": null,
   "id": "f1bd7937",
   "metadata": {},
   "outputs": [],
   "source": []
  },
  {
   "cell_type": "markdown",
   "id": "b5bd0b2a",
   "metadata": {},
   "source": [
    "# Exercise 1: Repeat the Two Ways ANOVA test for the tobaco consum (tobgp) with population age (agegp)"
   ]
  },
  {
   "cell_type": "code",
   "execution_count": null,
   "id": "1bed6e07",
   "metadata": {},
   "outputs": [],
   "source": []
  },
  {
   "cell_type": "code",
   "execution_count": null,
   "id": "6b141b0f",
   "metadata": {},
   "outputs": [],
   "source": [
    "#model = ols().fit()\n",
    "#anova_table = sm.stats.anova_lm()\n",
    "#anova_table"
   ]
  },
  {
   "cell_type": "code",
   "execution_count": null,
   "id": "4610283a",
   "metadata": {},
   "outputs": [],
   "source": [
    "#res = Acces to the residuals"
   ]
  },
  {
   "cell_type": "code",
   "execution_count": null,
   "id": "b6380326",
   "metadata": {},
   "outputs": [],
   "source": [
    "#### Plot the Q-Q Plot"
   ]
  },
  {
   "cell_type": "code",
   "execution_count": null,
   "id": "cfb5f316",
   "metadata": {},
   "outputs": [],
   "source": [
    "#### Plot the Histogram"
   ]
  },
  {
   "cell_type": "code",
   "execution_count": null,
   "id": "563fd2d6",
   "metadata": {},
   "outputs": [],
   "source": [
    "#stats.shapiro()"
   ]
  },
  {
   "cell_type": "code",
   "execution_count": null,
   "id": "0ffa630a",
   "metadata": {},
   "outputs": [],
   "source": [
    "#stats.levene()"
   ]
  }
 ],
 "metadata": {
  "kernelspec": {
   "display_name": "Python 3",
   "language": "python",
   "name": "python3"
  },
  "language_info": {
   "codemirror_mode": {
    "name": "ipython",
    "version": 3
   },
   "file_extension": ".py",
   "mimetype": "text/x-python",
   "name": "python",
   "nbconvert_exporter": "python",
   "pygments_lexer": "ipython3",
   "version": "3.9.2"
  }
 },
 "nbformat": 4,
 "nbformat_minor": 5
}
