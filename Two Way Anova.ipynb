{
 "cells": [
  {
   "cell_type": "markdown",
   "id": "ba113086",
   "metadata": {},
   "source": [
    "# Load necessary packages"
   ]
  },
  {
   "cell_type": "code",
   "execution_count": 15,
   "id": "e0ee7e51",
   "metadata": {},
   "outputs": [],
   "source": [
    "import pandas as pd\n",
    "import scipy.stats as stats\n",
    "import statsmodels.api as sm\n",
    "from statsmodels.formula.api import ols\n",
    "# easily detect the differences between different treatments\n",
    "import matplotlib.pyplot as plt\n",
    "import seaborn as sns\n",
    "import statsmodels.stats.multicomp as mc"
   ]
  },
  {
   "cell_type": "markdown",
   "id": "a127d1c3",
   "metadata": {},
   "source": [
    "# Read Data "
   ]
  },
  {
   "cell_type": "code",
   "execution_count": 16,
   "id": "ad132742",
   "metadata": {},
   "outputs": [
    {
     "data": {
      "text/html": [
       "<div>\n",
       "<style scoped>\n",
       "    .dataframe tbody tr th:only-of-type {\n",
       "        vertical-align: middle;\n",
       "    }\n",
       "\n",
       "    .dataframe tbody tr th {\n",
       "        vertical-align: top;\n",
       "    }\n",
       "\n",
       "    .dataframe thead th {\n",
       "        text-align: right;\n",
       "    }\n",
       "</style>\n",
       "<table border=\"1\" class=\"dataframe\">\n",
       "  <thead>\n",
       "    <tr style=\"text-align: right;\">\n",
       "      <th></th>\n",
       "      <th>Unnamed: 0</th>\n",
       "      <th>agegp</th>\n",
       "      <th>alcgp</th>\n",
       "      <th>tobgp</th>\n",
       "      <th>ncases</th>\n",
       "      <th>ncontrols</th>\n",
       "      <th>cases_per_population</th>\n",
       "    </tr>\n",
       "  </thead>\n",
       "  <tbody>\n",
       "    <tr>\n",
       "      <th>0</th>\n",
       "      <td>16</td>\n",
       "      <td>35-44</td>\n",
       "      <td>0-39g/day</td>\n",
       "      <td>0-9g/day</td>\n",
       "      <td>0</td>\n",
       "      <td>60</td>\n",
       "      <td>0.000000</td>\n",
       "    </tr>\n",
       "    <tr>\n",
       "      <th>1</th>\n",
       "      <td>17</td>\n",
       "      <td>35-44</td>\n",
       "      <td>0-39g/day</td>\n",
       "      <td>10-19</td>\n",
       "      <td>1</td>\n",
       "      <td>14</td>\n",
       "      <td>0.071429</td>\n",
       "    </tr>\n",
       "    <tr>\n",
       "      <th>2</th>\n",
       "      <td>18</td>\n",
       "      <td>35-44</td>\n",
       "      <td>0-39g/day</td>\n",
       "      <td>20-29</td>\n",
       "      <td>0</td>\n",
       "      <td>7</td>\n",
       "      <td>0.000000</td>\n",
       "    </tr>\n",
       "    <tr>\n",
       "      <th>3</th>\n",
       "      <td>19</td>\n",
       "      <td>35-44</td>\n",
       "      <td>0-39g/day</td>\n",
       "      <td>30+</td>\n",
       "      <td>0</td>\n",
       "      <td>8</td>\n",
       "      <td>0.000000</td>\n",
       "    </tr>\n",
       "    <tr>\n",
       "      <th>4</th>\n",
       "      <td>20</td>\n",
       "      <td>35-44</td>\n",
       "      <td>40-79</td>\n",
       "      <td>0-9g/day</td>\n",
       "      <td>0</td>\n",
       "      <td>35</td>\n",
       "      <td>0.000000</td>\n",
       "    </tr>\n",
       "    <tr>\n",
       "      <th>...</th>\n",
       "      <td>...</td>\n",
       "      <td>...</td>\n",
       "      <td>...</td>\n",
       "      <td>...</td>\n",
       "      <td>...</td>\n",
       "      <td>...</td>\n",
       "      <td>...</td>\n",
       "    </tr>\n",
       "    <tr>\n",
       "      <th>68</th>\n",
       "      <td>84</td>\n",
       "      <td>75+</td>\n",
       "      <td>40-79</td>\n",
       "      <td>30+</td>\n",
       "      <td>1</td>\n",
       "      <td>1</td>\n",
       "      <td>1.000000</td>\n",
       "    </tr>\n",
       "    <tr>\n",
       "      <th>69</th>\n",
       "      <td>85</td>\n",
       "      <td>75+</td>\n",
       "      <td>80-119</td>\n",
       "      <td>0-9g/day</td>\n",
       "      <td>1</td>\n",
       "      <td>1</td>\n",
       "      <td>1.000000</td>\n",
       "    </tr>\n",
       "    <tr>\n",
       "      <th>70</th>\n",
       "      <td>86</td>\n",
       "      <td>75+</td>\n",
       "      <td>80-119</td>\n",
       "      <td>10-19</td>\n",
       "      <td>1</td>\n",
       "      <td>1</td>\n",
       "      <td>1.000000</td>\n",
       "    </tr>\n",
       "    <tr>\n",
       "      <th>71</th>\n",
       "      <td>87</td>\n",
       "      <td>75+</td>\n",
       "      <td>120+</td>\n",
       "      <td>0-9g/day</td>\n",
       "      <td>2</td>\n",
       "      <td>2</td>\n",
       "      <td>1.000000</td>\n",
       "    </tr>\n",
       "    <tr>\n",
       "      <th>72</th>\n",
       "      <td>88</td>\n",
       "      <td>75+</td>\n",
       "      <td>120+</td>\n",
       "      <td>10-19</td>\n",
       "      <td>1</td>\n",
       "      <td>1</td>\n",
       "      <td>1.000000</td>\n",
       "    </tr>\n",
       "  </tbody>\n",
       "</table>\n",
       "<p>73 rows × 7 columns</p>\n",
       "</div>"
      ],
      "text/plain": [
       "    Unnamed: 0  agegp      alcgp     tobgp  ncases  ncontrols  \\\n",
       "0           16  35-44  0-39g/day  0-9g/day       0         60   \n",
       "1           17  35-44  0-39g/day     10-19       1         14   \n",
       "2           18  35-44  0-39g/day     20-29       0          7   \n",
       "3           19  35-44  0-39g/day       30+       0          8   \n",
       "4           20  35-44      40-79  0-9g/day       0         35   \n",
       "..         ...    ...        ...       ...     ...        ...   \n",
       "68          84    75+      40-79       30+       1          1   \n",
       "69          85    75+     80-119  0-9g/day       1          1   \n",
       "70          86    75+     80-119     10-19       1          1   \n",
       "71          87    75+       120+  0-9g/day       2          2   \n",
       "72          88    75+       120+     10-19       1          1   \n",
       "\n",
       "    cases_per_population  \n",
       "0               0.000000  \n",
       "1               0.071429  \n",
       "2               0.000000  \n",
       "3               0.000000  \n",
       "4               0.000000  \n",
       "..                   ...  \n",
       "68              1.000000  \n",
       "69              1.000000  \n",
       "70              1.000000  \n",
       "71              1.000000  \n",
       "72              1.000000  \n",
       "\n",
       "[73 rows x 7 columns]"
      ]
     },
     "metadata": {},
     "output_type": "display_data"
    }
   ],
   "source": [
    "df = pd.read_csv(\"esoph.csv\")\n",
    "display(df)"
   ]
  },
  {
   "cell_type": "markdown",
   "id": "a2fa8162",
   "metadata": {},
   "source": [
    "# Visualice Data"
   ]
  },
  {
   "cell_type": "code",
   "execution_count": 17,
   "id": "3cea7473",
   "metadata": {},
   "outputs": [
    {
     "data": {
      "image/png": "[encoded data removed]",
      "text/plain": [
       "<Figure size 432x288 with 1 Axes>"
      ]
     },
     "metadata": {
      "needs_background": "light"
     },
     "output_type": "display_data"
    }
   ],
   "source": [
    "ax = sns.boxplot(x='alcgp', y='cases_per_population', data=df, color='#99c2a2')\n",
    "ax = sns.swarmplot(x=\"alcgp\", y=\"cases_per_population\", data=df, color='#7d0013')\n",
    "plt.show()"
   ]
  },
  {
   "cell_type": "code",
   "execution_count": 18,
   "id": "f6834b4c",
   "metadata": {},
   "outputs": [
    {
     "data": {
      "image/png": "[encoded data removed]",
      "text/plain": [
       "<Figure size 432x288 with 1 Axes>"
      ]
     },
     "metadata": {
      "needs_background": "light"
     },
     "output_type": "display_data"
    }
   ],
   "source": [
    "ax = sns.boxplot(x='tobgp', y='cases_per_population', data=df, color='#99c2a2')\n",
    "ax = sns.swarmplot(x=\"tobgp\", y=\"cases_per_population\", data=df, color='#7d0013')\n",
    "plt.show()"
   ]
  },
  {
   "cell_type": "markdown",
   "id": "f2c3d500",
   "metadata": {},
   "source": [
    "# Fit the Model"
   ]
  },
  {
   "cell_type": "code",
   "execution_count": 19,
   "id": "fb48747a",
   "metadata": {},
   "outputs": [
    {
     "data": {
      "text/html": [
       "<div>\n",
       "<style scoped>\n",
       "    .dataframe tbody tr th:only-of-type {\n",
       "        vertical-align: middle;\n",
       "    }\n",
       "\n",
       "    .dataframe tbody tr th {\n",
       "        vertical-align: top;\n",
       "    }\n",
       "\n",
       "    .dataframe thead th {\n",
       "        text-align: right;\n",
       "    }\n",
       "</style>\n",
       "<table border=\"1\" class=\"dataframe\">\n",
       "  <thead>\n",
       "    <tr style=\"text-align: right;\">\n",
       "      <th></th>\n",
       "      <th>sum_sq</th>\n",
       "      <th>df</th>\n",
       "      <th>F</th>\n",
       "      <th>PR(&gt;F)</th>\n",
       "    </tr>\n",
       "  </thead>\n",
       "  <tbody>\n",
       "    <tr>\n",
       "      <th>tobgp</th>\n",
       "      <td>0.521667</td>\n",
       "      <td>3.0</td>\n",
       "      <td>2.233204</td>\n",
       "      <td>9.414858e-02</td>\n",
       "    </tr>\n",
       "    <tr>\n",
       "      <th>alcgp</th>\n",
       "      <td>3.745410</td>\n",
       "      <td>3.0</td>\n",
       "      <td>16.033731</td>\n",
       "      <td>1.124331e-07</td>\n",
       "    </tr>\n",
       "    <tr>\n",
       "      <th>tobgp:alcgp</th>\n",
       "      <td>0.218660</td>\n",
       "      <td>9.0</td>\n",
       "      <td>0.312020</td>\n",
       "      <td>9.678944e-01</td>\n",
       "    </tr>\n",
       "    <tr>\n",
       "      <th>Residual</th>\n",
       "      <td>4.438318</td>\n",
       "      <td>57.0</td>\n",
       "      <td>NaN</td>\n",
       "      <td>NaN</td>\n",
       "    </tr>\n",
       "  </tbody>\n",
       "</table>\n",
       "</div>"
      ],
      "text/plain": [
       "               sum_sq    df          F        PR(>F)\n",
       "tobgp        0.521667   3.0   2.233204  9.414858e-02\n",
       "alcgp        3.745410   3.0  16.033731  1.124331e-07\n",
       "tobgp:alcgp  0.218660   9.0   0.312020  9.678944e-01\n",
       "Residual     4.438318  57.0        NaN           NaN"
      ]
     },
     "execution_count": 19,
     "metadata": {},
     "output_type": "execute_result"
    }
   ],
   "source": [
    "model = ols('cases_per_population ~ tobgp + alcgp + tobgp:alcgp', data=df).fit()\n",
    "anova_table = sm.stats.anova_lm(model, typ=2)\n",
    "anova_table"
   ]
  },
  {
   "cell_type": "markdown",
   "id": "2f41247b",
   "metadata": {},
   "source": [
    "**Interpration**: As we obtain **P-value < 0.05** we can conclude that it existis significative difference among groups. Note that the **F-value** is inverse proportional to the **P-value**\n",
    "\n",
    "**Warning**: We can only conclude that at least **only one group** is significative difference from the rest, but wa cannot afirm that exists significative difference between the groups"
   ]
  },
  {
   "cell_type": "markdown",
   "id": "0464eec2",
   "metadata": {},
   "source": [
    "# Check ANOVA assumptions"
   ]
  },
  {
   "cell_type": "markdown",
   "id": "740d2187",
   "metadata": {},
   "source": [
    "## Normality of the Residues"
   ]
  },
  {
   "cell_type": "code",
   "execution_count": 20,
   "id": "c0684d70",
   "metadata": {},
   "outputs": [],
   "source": [
    "res = model.resid"
   ]
  },
  {
   "cell_type": "code",
   "execution_count": 21,
   "id": "90247b30",
   "metadata": {},
   "outputs": [
    {
     "name": "stderr",
     "output_type": "stream",
     "text": [
      "/opt/conda/lib/python3.9/site-packages/statsmodels/graphics/gofplots.py:993: UserWarning: marker is redundantly defined by the 'marker' keyword argument and the fmt string \"bo\" (-> marker='o'). The keyword argument will take precedence.\n",
      "  ax.plot(x, y, fmt, **plot_style)\n"
     ]
    },
    {
     "data": {
      "image/png": "[encoded data removed]",
      "text/plain": [
       "<Figure size 432x288 with 1 Axes>"
      ]
     },
     "metadata": {
      "needs_background": "light"
     },
     "output_type": "display_data"
    }
   ],
   "source": [
    "sm.qqplot(res, line='45')\n",
    "plt.xlabel(\"Theoretical Quantiles\")\n",
    "plt.ylabel(\"Standardized Residuals\")\n",
    "plt.show()"
   ]
  },
  {
   "cell_type": "code",
   "execution_count": 22,
   "id": "a8a3ed40",
   "metadata": {},
   "outputs": [
    {
     "data": {
      "image/png": "[encoded data removed]",
      "text/plain": [
       "<Figure size 432x288 with 1 Axes>"
      ]
     },
     "metadata": {
      "needs_background": "light"
     },
     "output_type": "display_data"
    }
   ],
   "source": [
    "plt.hist(res, bins='auto', histtype='bar', ec='k') \n",
    "plt.xlabel(\"Residuals\")\n",
    "plt.ylabel('Frequency')\n",
    "plt.show()"
   ]
  },
  {
   "cell_type": "code",
   "execution_count": 23,
   "id": "36698b7b",
   "metadata": {},
   "outputs": [
    {
     "data": {
      "text/plain": [
       "ShapiroResult(statistic=0.9823050498962402, pvalue=0.3972177505493164)"
      ]
     },
     "execution_count": 23,
     "metadata": {},
     "output_type": "execute_result"
    }
   ],
   "source": [
    "stats.shapiro(model.resid)"
   ]
  },
  {
   "cell_type": "markdown",
   "id": "acbc4c7f",
   "metadata": {},
   "source": [
    "## Homoscedasticity between Groups"
   ]
  },
  {
   "cell_type": "code",
   "execution_count": 24,
   "id": "acd7e9ce",
   "metadata": {},
   "outputs": [
    {
     "data": {
      "text/plain": [
       "LeveneResult(statistic=2.3875592004881656, pvalue=0.0763792011177262)"
      ]
     },
     "execution_count": 24,
     "metadata": {},
     "output_type": "execute_result"
    }
   ],
   "source": [
    "stats.levene(df['cases_per_population'][df['alcgp'] == '0-39g/day'],\n",
    "             df['cases_per_population'][df['alcgp'] == '40-79'],\n",
    "             df['cases_per_population'][df['alcgp'] == '80-119'],\n",
    "             df['cases_per_population'][df['alcgp'] == '120+'])"
   ]
  },
  {
   "cell_type": "code",
   "execution_count": 25,
   "id": "d2880029",
   "metadata": {},
   "outputs": [
    {
     "data": {
      "text/plain": [
       "LeveneResult(statistic=1.7243190731626041, pvalue=0.17005269105625923)"
      ]
     },
     "execution_count": 25,
     "metadata": {},
     "output_type": "execute_result"
    }
   ],
   "source": [
    "stats.levene(df['cases_per_population'][df['tobgp'] == '0-9g/day'],\n",
    "             df['cases_per_population'][df['tobgp'] == '10-19'],\n",
    "             df['cases_per_population'][df['tobgp'] == '20-29'],\n",
    "             df['cases_per_population'][df['tobgp'] == '30+'])"
   ]
  },
  {
   "cell_type": "markdown",
   "id": "da9ad333",
   "metadata": {},
   "source": [
    "# Post Hoc Analysis"
   ]
  },
  {
   "cell_type": "code",
   "execution_count": 27,
   "id": "eaa05705",
   "metadata": {},
   "outputs": [
    {
     "name": "stdout",
     "output_type": "stream",
     "text": [
      "  Multiple Comparison of Means - Tukey HSD, FWER=0.05  \n",
      "=======================================================\n",
      "  group1  group2 meandiff p-adj   lower   upper  reject\n",
      "-------------------------------------------------------\n",
      "0-39g/day   120+   0.6105  0.001  0.3697  0.8513   True\n",
      "0-39g/day  40-79   0.1762 0.2047 -0.0578  0.4102  False\n",
      "0-39g/day 80-119   0.3257 0.0031  0.0884  0.5629   True\n",
      "     120+  40-79  -0.4342  0.001  -0.675 -0.1934   True\n",
      "     120+ 80-119  -0.2848 0.0157 -0.5287 -0.0408   True\n",
      "    40-79 80-119   0.1495 0.3538 -0.0878  0.3867  False\n",
      "-------------------------------------------------------\n"
     ]
    }
   ],
   "source": [
    "comp = mc.MultiComparison(df['cases_per_population'],df['alcgp'])\n",
    "post_hoc_res = comp.tukeyhsd()\n",
    "print(post_hoc_res.summary())"
   ]
  },
  {
   "cell_type": "code",
   "execution_count": 28,
   "id": "45792107",
   "metadata": {},
   "outputs": [
    {
     "name": "stdout",
     "output_type": "stream",
     "text": [
      " Multiple Comparison of Means - Tukey HSD, FWER=0.05 \n",
      "=====================================================\n",
      " group1  group2 meandiff p-adj   lower  upper  reject\n",
      "-----------------------------------------------------\n",
      "0-9g/day  10-19  -0.0051    0.9 -0.2956 0.2855  False\n",
      "0-9g/day  20-29  -0.0296    0.9 -0.3327 0.2734  False\n",
      "0-9g/day    30+   0.1557  0.542 -0.1525 0.4638  False\n",
      "   10-19  20-29  -0.0246    0.9 -0.3276 0.2785  False\n",
      "   10-19    30+   0.1608 0.5179 -0.1474 0.4689  False\n",
      "   20-29    30+   0.1853   0.43 -0.1347 0.5053  False\n",
      "-----------------------------------------------------\n"
     ]
    }
   ],
   "source": [
    "comp = mc.MultiComparison(df['cases_per_population'],df['tobgp'])\n",
    "post_hoc_res = comp.tukeyhsd()\n",
    "print(post_hoc_res.summary())"
   ]
  },
  {
   "cell_type": "code",
   "execution_count": null,
   "id": "ff3e224f",
   "metadata": {},
   "outputs": [],
   "source": []
  },
  {
   "cell_type": "code",
   "execution_count": null,
   "id": "f1bd7937",
   "metadata": {},
   "outputs": [],
   "source": []
  },
  {
   "cell_type": "markdown",
   "id": "b5bd0b2a",
   "metadata": {},
   "source": [
    "# Exercise 1: Repeat the ANOVA test for the tobaco consum (tobgp)"
   ]
  },
  {
   "cell_type": "code",
   "execution_count": null,
   "id": "1bed6e07",
   "metadata": {},
   "outputs": [],
   "source": [
    "#ax = sns.boxplot()\n",
    "#ax = sns.swarmplot()\n",
    "#plt.show()"
   ]
  },
  {
   "cell_type": "code",
   "execution_count": null,
   "id": "6b141b0f",
   "metadata": {},
   "outputs": [],
   "source": [
    "#model = ols().fit()\n",
    "#anova_table = sm.stats.anova_lm()\n",
    "#anova_table"
   ]
  },
  {
   "cell_type": "code",
   "execution_count": null,
   "id": "4610283a",
   "metadata": {},
   "outputs": [],
   "source": [
    "#res = Acces to the residuals"
   ]
  },
  {
   "cell_type": "code",
   "execution_count": null,
   "id": "b6380326",
   "metadata": {},
   "outputs": [],
   "source": [
    "#### Plot the Q-Q Plot"
   ]
  },
  {
   "cell_type": "code",
   "execution_count": null,
   "id": "cfb5f316",
   "metadata": {},
   "outputs": [],
   "source": [
    "#### Plot the Histogram"
   ]
  },
  {
   "cell_type": "code",
   "execution_count": null,
   "id": "563fd2d6",
   "metadata": {},
   "outputs": [],
   "source": [
    "#stats.shapiro()"
   ]
  },
  {
   "cell_type": "code",
   "execution_count": null,
   "id": "0ffa630a",
   "metadata": {},
   "outputs": [],
   "source": [
    "#stats.levene()"
   ]
  },
  {
   "cell_type": "markdown",
   "id": "edc88981",
   "metadata": {},
   "source": [
    "# Exercise 2: Repeat the Analysis for the Population Age (agegp)"
   ]
  }
 ],
 "metadata": {
  "kernelspec": {
   "display_name": "Python 3",
   "language": "python",
   "name": "python3"
  },
  "language_info": {
   "codemirror_mode": {
    "name": "ipython",
    "version": 3
   },
   "file_extension": ".py",
   "mimetype": "text/x-python",
   "name": "python",
   "nbconvert_exporter": "python",
   "pygments_lexer": "ipython3",
   "version": "3.9.2"
  }
 },
 "nbformat": 4,
 "nbformat_minor": 5
}
